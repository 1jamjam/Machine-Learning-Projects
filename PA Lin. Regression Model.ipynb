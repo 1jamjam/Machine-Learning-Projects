{
 "cells": [
  {
   "cell_type": "code",
   "execution_count": 118,
   "id": "68c51606-c1f8-47ca-9aec-8f61ec7d6be3",
   "metadata": {},
   "outputs": [],
   "source": [
    "import pandas as pd\n",
    "import numpy as np"
   ]
  },
  {
   "cell_type": "code",
   "execution_count": 119,
   "id": "bdf03c35-4f58-40ae-9a1e-68908bac41bd",
   "metadata": {},
   "outputs": [
    {
     "name": "stdout",
     "output_type": "stream",
     "text": [
      "Requirement already satisfied: yfinance in c:\\users\\bornf\\appdata\\local\\programs\\python\\python311\\lib\\site-packages (0.2.55)\n",
      "Requirement already satisfied: pandas in c:\\users\\bornf\\appdata\\local\\programs\\python\\python311\\lib\\site-packages (2.2.0)\n",
      "Requirement already satisfied: scikit-learn in c:\\users\\bornf\\appdata\\local\\programs\\python\\python311\\lib\\site-packages (1.5.0)\n",
      "Requirement already satisfied: matplotlib in c:\\users\\bornf\\appdata\\local\\programs\\python\\python311\\lib\\site-packages (3.8.2)\n",
      "Requirement already satisfied: bolt-python in c:\\users\\bornf\\appdata\\local\\programs\\python\\python311\\lib\\site-packages (0.7.1)\n",
      "Requirement already satisfied: numpy>=1.16.5 in c:\\users\\bornf\\appdata\\local\\programs\\python\\python311\\lib\\site-packages (from yfinance) (1.26.4)\n",
      "Requirement already satisfied: requests>=2.31 in c:\\users\\bornf\\appdata\\local\\programs\\python\\python311\\lib\\site-packages (from yfinance) (2.31.0)\n",
      "Requirement already satisfied: multitasking>=0.0.7 in c:\\users\\bornf\\appdata\\local\\programs\\python\\python311\\lib\\site-packages (from yfinance) (0.0.11)\n",
      "Requirement already satisfied: platformdirs>=2.0.0 in c:\\users\\bornf\\appdata\\local\\programs\\python\\python311\\lib\\site-packages (from yfinance) (4.1.0)\n",
      "Requirement already satisfied: pytz>=2022.5 in c:\\users\\bornf\\appdata\\local\\programs\\python\\python311\\lib\\site-packages (from yfinance) (2024.1)\n",
      "Requirement already satisfied: frozendict>=2.3.4 in c:\\users\\bornf\\appdata\\local\\programs\\python\\python311\\lib\\site-packages (from yfinance) (2.4.6)\n",
      "Requirement already satisfied: peewee>=3.16.2 in c:\\users\\bornf\\appdata\\local\\programs\\python\\python311\\lib\\site-packages (from yfinance) (3.17.9)\n",
      "Requirement already satisfied: beautifulsoup4>=4.11.1 in c:\\users\\bornf\\appdata\\local\\programs\\python\\python311\\lib\\site-packages (from yfinance) (4.12.3)\n",
      "Requirement already satisfied: python-dateutil>=2.8.2 in c:\\users\\bornf\\appdata\\local\\programs\\python\\python311\\lib\\site-packages (from pandas) (2.8.2)\n",
      "Requirement already satisfied: tzdata>=2022.7 in c:\\users\\bornf\\appdata\\local\\programs\\python\\python311\\lib\\site-packages (from pandas) (2023.4)\n",
      "Requirement already satisfied: scipy>=1.6.0 in c:\\users\\bornf\\appdata\\local\\programs\\python\\python311\\lib\\site-packages (from scikit-learn) (1.13.1)\n",
      "Requirement already satisfied: joblib>=1.2.0 in c:\\users\\bornf\\appdata\\local\\programs\\python\\python311\\lib\\site-packages (from scikit-learn) (1.4.2)\n",
      "Requirement already satisfied: threadpoolctl>=3.1.0 in c:\\users\\bornf\\appdata\\local\\programs\\python\\python311\\lib\\site-packages (from scikit-learn) (3.5.0)\n",
      "Requirement already satisfied: contourpy>=1.0.1 in c:\\users\\bornf\\appdata\\local\\programs\\python\\python311\\lib\\site-packages (from matplotlib) (1.2.0)\n",
      "Requirement already satisfied: cycler>=0.10 in c:\\users\\bornf\\appdata\\local\\programs\\python\\python311\\lib\\site-packages (from matplotlib) (0.12.1)\n",
      "Requirement already satisfied: fonttools>=4.22.0 in c:\\users\\bornf\\appdata\\local\\programs\\python\\python311\\lib\\site-packages (from matplotlib) (4.48.1)\n",
      "Requirement already satisfied: kiwisolver>=1.3.1 in c:\\users\\bornf\\appdata\\local\\programs\\python\\python311\\lib\\site-packages (from matplotlib) (1.4.5)\n",
      "Requirement already satisfied: packaging>=20.0 in c:\\users\\bornf\\appdata\\local\\programs\\python\\python311\\lib\\site-packages (from matplotlib) (23.2)\n",
      "Requirement already satisfied: pillow>=8 in c:\\users\\bornf\\appdata\\local\\programs\\python\\python311\\lib\\site-packages (from matplotlib) (10.2.0)\n",
      "Requirement already satisfied: pyparsing>=2.3.1 in c:\\users\\bornf\\appdata\\local\\programs\\python\\python311\\lib\\site-packages (from matplotlib) (3.1.1)\n",
      "Requirement already satisfied: soupsieve>1.2 in c:\\users\\bornf\\appdata\\local\\programs\\python\\python311\\lib\\site-packages (from beautifulsoup4>=4.11.1->yfinance) (2.5)\n",
      "Requirement already satisfied: six>=1.5 in c:\\users\\bornf\\appdata\\local\\programs\\python\\python311\\lib\\site-packages (from python-dateutil>=2.8.2->pandas) (1.16.0)\n",
      "Requirement already satisfied: charset-normalizer<4,>=2 in c:\\users\\bornf\\appdata\\local\\programs\\python\\python311\\lib\\site-packages (from requests>=2.31->yfinance) (3.3.2)\n",
      "Requirement already satisfied: idna<4,>=2.5 in c:\\users\\bornf\\appdata\\local\\programs\\python\\python311\\lib\\site-packages (from requests>=2.31->yfinance) (3.6)\n",
      "Requirement already satisfied: urllib3<3,>=1.21.1 in c:\\users\\bornf\\appdata\\local\\programs\\python\\python311\\lib\\site-packages (from requests>=2.31->yfinance) (2.1.0)\n",
      "Requirement already satisfied: certifi>=2017.4.17 in c:\\users\\bornf\\appdata\\local\\programs\\python\\python311\\lib\\site-packages (from requests>=2.31->yfinance) (2023.11.17)\n",
      "Note: you may need to restart the kernel to use updated packages.\n"
     ]
    },
    {
     "name": "stderr",
     "output_type": "stream",
     "text": [
      "\n",
      "[notice] A new release of pip is available: 24.2 -> 25.1.1\n",
      "[notice] To update, run: python.exe -m pip install --upgrade pip\n"
     ]
    }
   ],
   "source": [
    "pip install yfinance pandas scikit-learn matplotlib bolt-python"
   ]
  },
  {
   "cell_type": "code",
   "execution_count": 120,
   "id": "43670fa1-a404-44ac-89c4-c00d994daf86",
   "metadata": {},
   "outputs": [],
   "source": [
    "import yfinance as yf\n",
    "\n",
    "\n",
    "def get_nq_data(start_date, end_date, interval='1m'):\n",
    "    nq = yf.download('NQ=F', start=start_date, end=end_date, interval=interval)\n",
    "    return nq"
   ]
  },
  {
   "cell_type": "code",
   "execution_count": 121,
   "id": "fd9b6f16-599e-4c44-837c-46cc00cc475d",
   "metadata": {},
   "outputs": [],
   "source": [
    "# to satisfy the yfinance 8 day restriction on the 1min timeframe data, we will compile this model on a maximum of 8 days of data. "
   ]
  },
  {
   "cell_type": "code",
   "execution_count": 122,
   "id": "1d3344f1-b0f4-45a3-b8cc-01cf0b4ac1d8",
   "metadata": {},
   "outputs": [
    {
     "name": "stderr",
     "output_type": "stream",
     "text": [
      "[*********************100%***********************]  1 of 1 completed\n"
     ]
    }
   ],
   "source": [
    "data = get_nq_data('2025-05-24', '2025-05-31')"
   ]
  },
  {
   "cell_type": "code",
   "execution_count": 123,
   "id": "16bb0e4c-2264-40c4-900b-326a20321d0b",
   "metadata": {},
   "outputs": [
    {
     "name": "stdout",
     "output_type": "stream",
     "text": [
      "Price                         Close      High       Low      Open Volume\n",
      "Ticker                         NQ=F      NQ=F      NQ=F      NQ=F   NQ=F\n",
      "Datetime                                                                \n",
      "2025-05-25 22:00:00+00:00  20963.75  20987.75  20954.25  20978.00      0\n",
      "2025-05-25 22:01:00+00:00  20984.75  20984.75  20958.25  20964.00    144\n",
      "2025-05-25 22:02:00+00:00  20982.25  20989.25  20976.50  20983.50    215\n",
      "2025-05-25 22:03:00+00:00  20996.00  21006.75  20985.25  20985.75    219\n",
      "2025-05-25 22:04:00+00:00  20993.50  20998.50  20984.50  20994.75    113\n",
      "MultiIndex([( 'Close', 'NQ=F'),\n",
      "            (  'High', 'NQ=F'),\n",
      "            (   'Low', 'NQ=F'),\n",
      "            (  'Open', 'NQ=F'),\n",
      "            ('Volume', 'NQ=F')],\n",
      "           names=['Price', 'Ticker'])\n"
     ]
    }
   ],
   "source": [
    "print(data.head())\n",
    "print(data.columns)"
   ]
  },
  {
   "cell_type": "code",
   "execution_count": 124,
   "id": "cc07fc50-05ac-44f1-a6c6-6f9bff84f439",
   "metadata": {},
   "outputs": [],
   "source": [
    "data = data.dropna()\n",
    "data = data.reset_index()\n",
    "data['Datetime'] = pd.to_datetime(data['Datetime'])"
   ]
  },
  {
   "cell_type": "code",
   "execution_count": 125,
   "id": "36b6f1d1-caea-42e0-b785-44e419fc9524",
   "metadata": {},
   "outputs": [
    {
     "name": "stdout",
     "output_type": "stream",
     "text": [
      "Price                   Datetime     Close      High       Low      Open  \\\n",
      "Ticker                                NQ=F      NQ=F      NQ=F      NQ=F   \n",
      "0      2025-05-25 22:00:00+00:00  20963.75  20987.75  20954.25  20978.00   \n",
      "1      2025-05-25 22:01:00+00:00  20984.75  20984.75  20958.25  20964.00   \n",
      "2      2025-05-25 22:02:00+00:00  20982.25  20989.25  20976.50  20983.50   \n",
      "3      2025-05-25 22:03:00+00:00  20996.00  21006.75  20985.25  20985.75   \n",
      "4      2025-05-25 22:04:00+00:00  20993.50  20998.50  20984.50  20994.75   \n",
      "\n",
      "Price  Volume  \n",
      "Ticker   NQ=F  \n",
      "0           0  \n",
      "1         144  \n",
      "2         215  \n",
      "3         219  \n",
      "4         113  \n"
     ]
    }
   ],
   "source": [
    "print(data.head())"
   ]
  },
  {
   "cell_type": "code",
   "execution_count": 126,
   "id": "be9547bd-599a-4984-8f12-9708f5e69c82",
   "metadata": {},
   "outputs": [],
   "source": [
    "data['prev_close'] = data['Close'].shift(1)\n",
    "data['momentum'] = data['Close'].squeeze() - data['prev_close']\n",
    "data = data.dropna()"
   ]
  },
  {
   "cell_type": "code",
   "execution_count": 127,
   "id": "76636283-b580-477f-b12d-6ee1d167a51f",
   "metadata": {},
   "outputs": [
    {
     "name": "stdout",
     "output_type": "stream",
     "text": [
      "Price                   Datetime     Close      High       Low      Open  \\\n",
      "Ticker                                NQ=F      NQ=F      NQ=F      NQ=F   \n",
      "1      2025-05-25 22:01:00+00:00  20984.75  20984.75  20958.25  20964.00   \n",
      "2      2025-05-25 22:02:00+00:00  20982.25  20989.25  20976.50  20983.50   \n",
      "3      2025-05-25 22:03:00+00:00  20996.00  21006.75  20985.25  20985.75   \n",
      "4      2025-05-25 22:04:00+00:00  20993.50  20998.50  20984.50  20994.75   \n",
      "5      2025-05-25 22:05:00+00:00  21000.25  21000.25  20991.75  20991.75   \n",
      "\n",
      "Price  Volume prev_close momentum  \n",
      "Ticker   NQ=F                      \n",
      "1         144   20963.75    21.00  \n",
      "2         215   20984.75    -2.50  \n",
      "3         219   20982.25    13.75  \n",
      "4         113   20996.00    -2.50  \n",
      "5          58   20993.50     6.75  \n"
     ]
    }
   ],
   "source": [
    "print(data.head())"
   ]
  },
  {
   "cell_type": "code",
   "execution_count": 128,
   "id": "29193c1e-0e5f-4482-a1d0-cebf1bdc4614",
   "metadata": {},
   "outputs": [],
   "source": [
    "features = ['prev_close', 'momentum']\n",
    "X = data[features]\n",
    "y = data['Close'].shift(-1)  # Next minute’s close\n",
    "\n",
    "X = X.iloc[:-1]\n",
    "y = y.iloc[:-1]"
   ]
  },
  {
   "cell_type": "code",
   "execution_count": 129,
   "id": "ae30b4a6-814f-44d3-9c31-098008215033",
   "metadata": {},
   "outputs": [],
   "source": [
    "split_index = int(len(X) * 0.8)\n",
    "X_train, X_test = X.iloc[:split_index], X.iloc[split_index:]\n",
    "y_train, y_test = y.iloc[:split_index], y.iloc[split_index:]"
   ]
  },
  {
   "cell_type": "code",
   "execution_count": 130,
   "id": "749f2745-65ab-4ead-a0cf-4b483f4aaf7a",
   "metadata": {},
   "outputs": [
    {
     "name": "stdout",
     "output_type": "stream",
     "text": [
      "Mean Squared Error: 65.887510\n"
     ]
    }
   ],
   "source": [
    "from sklearn.linear_model import LinearRegression\n",
    "from sklearn.metrics import mean_squared_error\n",
    "\n",
    "model = LinearRegression()\n",
    "model.fit(X_train, y_train)\n",
    "\n",
    "y_pred = model.predict(X_test)\n",
    "mse = mean_squared_error(y_test, y_pred)\n",
    "print(f\"Mean Squared Error: {mse:.6f}\")"
   ]
  },
  {
   "cell_type": "code",
   "execution_count": 131,
   "id": "72698b59-d4bc-4c42-a66f-4867b18fe920",
   "metadata": {},
   "outputs": [],
   "source": [
    "#Each value is the result of training the model after a new feature was added\n",
    "results = [134.99, 65.88]"
   ]
  },
  {
   "cell_type": "code",
   "execution_count": null,
   "id": "bccc4c45-4074-4a09-b854-af4c3f3a9f95",
   "metadata": {},
   "outputs": [],
   "source": [
    "#Documentation\n",
    "#prev_close and momentum were the best features for this linear regression model.\n",
    "#adding any other features simply damaged the accuracy of the model\n",
    "#we achieved a 65.88 MSE which seems to be the pinnacle of this models predictive capability given the data at hand\n",
    "#next step - use XGBoost ML Model to see if we can achieve higher accuracy. "
   ]
  }
 ],
 "metadata": {
  "kernelspec": {
   "display_name": "Python 3 (ipykernel)",
   "language": "python",
   "name": "python3"
  },
  "language_info": {
   "codemirror_mode": {
    "name": "ipython",
    "version": 3
   },
   "file_extension": ".py",
   "mimetype": "text/x-python",
   "name": "python",
   "nbconvert_exporter": "python",
   "pygments_lexer": "ipython3",
   "version": "3.11.3"
  }
 },
 "nbformat": 4,
 "nbformat_minor": 5
}
